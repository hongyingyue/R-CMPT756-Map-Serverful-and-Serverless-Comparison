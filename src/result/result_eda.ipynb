{
 "cells": [
  {
   "cell_type": "code",
   "execution_count": null,
   "metadata": {},
   "outputs": [],
   "source": [
    "import pandas as pd\n",
    "import matplotlib.pyplot as plt\n",
    "\n",
    "# Read the CSV file into a pandas DataFrame\n",
    "df = pd.read_csv(\"gis_log_ecs.csv\")\n",
    "\n",
    "# Rename the \"elapsed\" column to \"response_time\"\n",
    "df = df.rename(columns={\"elapsed\": \"response_time\"})\n",
    "\n",
    "# Convert the \"timeStamp\" column to real-time format\n",
    "df[\"timeStamp\"] = pd.to_datetime(df[\"timeStamp\"], unit='ms')\n",
    "\n",
    "# Plot a line chart for \"response_time\" vs \"timeStamp\"\n",
    "plt.plot(df[\"timeStamp\"], df[\"response_time\"])\n",
    "plt.xlabel(\"Time Stamp\")\n",
    "plt.ylabel(\"Response Time\")\n",
    "plt.title(\"Response Time vs Time Stamp\")\n",
    "plt.show()"
   ]
  }
 ],
 "metadata": {
  "language_info": {
   "name": "python"
  },
  "orig_nbformat": 4
 },
 "nbformat": 4,
 "nbformat_minor": 2
}
